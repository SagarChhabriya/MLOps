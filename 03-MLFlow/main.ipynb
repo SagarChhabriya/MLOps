{
 "cells": [
  {
   "cell_type": "markdown",
   "id": "9f3abf72",
   "metadata": {},
   "source": [
    "## MLFlow Tracking Server"
   ]
  },
  {
   "cell_type": "code",
   "execution_count": null,
   "id": "8bb4ac53",
   "metadata": {},
   "outputs": [],
   "source": [
    "# pip install mlflow==2.16.2\n",
    "import mlflow "
   ]
  },
  {
   "cell_type": "code",
   "execution_count": 3,
   "id": "b18bc51f",
   "metadata": {},
   "outputs": [],
   "source": [
    "mlflow.set_tracking_uri(\"http://127.0.0.1:5000\")"
   ]
  },
  {
   "cell_type": "code",
   "execution_count": 4,
   "id": "391c1db5",
   "metadata": {},
   "outputs": [
    {
     "name": "stdout",
     "output_type": "stream",
     "text": [
      "🏃 View run skillful-stag-163 at: http://127.0.0.1:5000/#/experiments/546647430120244973/runs/477bf610cf574205a14f8e9e4059a498\n",
      "🧪 View experiment at: http://127.0.0.1:5000/#/experiments/546647430120244973\n"
     ]
    }
   ],
   "source": [
    "mlflow.set_experiment(\"Testing Localhost\")\n",
    "\n",
    "\n",
    "with mlflow.start_run():\n",
    "    mlflow.log_metric(\"test\",1)\n",
    "    mlflow.log_metric(\"sagar\",1)"
   ]
  },
  {
   "cell_type": "code",
   "execution_count": null,
   "id": "f3235f01",
   "metadata": {},
   "outputs": [
    {
     "name": "stdout",
     "output_type": "stream",
     "text": [
      "🏃 View run melodic-foal-823 at: http://127.0.0.1:5000/#/experiments/546647430120244973/runs/94ca994e027d405ebc0eefd683748390\n",
      "🧪 View experiment at: http://127.0.0.1:5000/#/experiments/546647430120244973\n"
     ]
    }
   ],
   "source": [
    "with mlflow.start_run():\n",
    "    mlflow.log_metric(\"test1\",1)\n",
    "    mlflow.log_metric('sagar1',1)"
   ]
  },
  {
   "cell_type": "code",
   "execution_count": 4,
   "id": "f9c76d03",
   "metadata": {},
   "outputs": [
    {
     "name": "stdout",
     "output_type": "stream",
     "text": [
      "🏃 View run gentle-mule-868 at: http://127.0.0.1:5000/#/experiments/0/runs/9a93181034e04530b432d93e62d3cdd6\n",
      "🧪 View experiment at: http://127.0.0.1:5000/#/experiments/0\n"
     ]
    }
   ],
   "source": [
    "with mlflow.start_run():\n",
    "    mlflow.log_metric(\"accuracy\", 0.95)\n",
    "    mlflow.log_param(\"learning_rate\", 0.01)\n"
   ]
  },
  {
   "cell_type": "code",
   "execution_count": 5,
   "id": "5b014ce6",
   "metadata": {},
   "outputs": [
    {
     "name": "stderr",
     "output_type": "stream",
     "text": [
      "2025/09/15 22:31:59 INFO mlflow.tracking.fluent: Experiment with name 'Testing Plots' does not exist. Creating a new experiment.\n"
     ]
    },
    {
     "name": "stdout",
     "output_type": "stream",
     "text": [
      "🏃 View run angry-boar-801 at: http://127.0.0.1:5000/#/experiments/318145438975466934/runs/1840fb7f2f07480a834d773c5be4dc34\n",
      "🧪 View experiment at: http://127.0.0.1:5000/#/experiments/318145438975466934\n",
      "🏃 View run intelligent-lark-376 at: http://127.0.0.1:5000/#/experiments/318145438975466934/runs/0e1a4a001adf46dd8b66bae5b72381fd\n",
      "🧪 View experiment at: http://127.0.0.1:5000/#/experiments/318145438975466934\n",
      "🏃 View run useful-lamb-733 at: http://127.0.0.1:5000/#/experiments/318145438975466934/runs/4694100da30f4e9087380d21437814a8\n",
      "🧪 View experiment at: http://127.0.0.1:5000/#/experiments/318145438975466934\n",
      "🏃 View run bustling-vole-423 at: http://127.0.0.1:5000/#/experiments/318145438975466934/runs/abfecd605c01451ab805e86b66454cc5\n",
      "🧪 View experiment at: http://127.0.0.1:5000/#/experiments/318145438975466934\n",
      "🏃 View run auspicious-cow-40 at: http://127.0.0.1:5000/#/experiments/318145438975466934/runs/dee209cf220647bbb39e36621bf7afcf\n",
      "🧪 View experiment at: http://127.0.0.1:5000/#/experiments/318145438975466934\n"
     ]
    }
   ],
   "source": [
    "mlflow.set_experiment(\"Testing Plots\")\n",
    "\n",
    "for i in range(5):\n",
    "    with mlflow.start_run():\n",
    "        mlflow.log_param(\"learning_rate\", 0.01 * (i + 1))\n",
    "        mlflow.log_param(\"batch_size\", 32 * (i + 1))\n",
    "        mlflow.log_metric(\"accuracy\", 0.8 + 0.02 * i)\n",
    "        mlflow.log_metric(\"loss\", 0.3 - 0.01 * i)\n"
   ]
  }
 ],
 "metadata": {
  "kernelspec": {
   "display_name": "venv",
   "language": "python",
   "name": "python3"
  },
  "language_info": {
   "codemirror_mode": {
    "name": "ipython",
    "version": 3
   },
   "file_extension": ".py",
   "mimetype": "text/x-python",
   "name": "python",
   "nbconvert_exporter": "python",
   "pygments_lexer": "ipython3",
   "version": "3.13.2"
  }
 },
 "nbformat": 4,
 "nbformat_minor": 5
}
